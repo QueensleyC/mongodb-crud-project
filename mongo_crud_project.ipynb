{
 "cells": [
  {
   "cell_type": "markdown",
   "metadata": {},
   "source": [
    "# MongoDB CRUD and Query Practice Project\n",
    "\n",
    "This project demonstrates MongoDB fundamentals using Python and the Faker library. It covers:\n",
    "- CRUD operations\n",
    "- Querying using logical and comparison operators\n",
    "- Filtering and sorting\n",
    "- Working with fake data\n"
   ]
  },
  {
   "cell_type": "markdown",
   "metadata": {},
   "source": [
    "## 🛠️ Setup and Dependencies"
   ]
  },
  {
   "cell_type": "code",
   "execution_count": 1,
   "metadata": {},
   "outputs": [],
   "source": [
    "from pymongo import MongoClient\n",
    "from faker import Faker\n",
    "import random\n",
    "from datetime import datetime as dt\n",
    "from bson.objectid import ObjectId\n"
   ]
  },
  {
   "cell_type": "markdown",
   "metadata": {},
   "source": [
    "## 🌍 Connect to MongoDB"
   ]
  },
  {
   "cell_type": "code",
   "execution_count": null,
   "metadata": {},
   "outputs": [],
   "source": [
    "client = MongoClient(\"mongodb://localhost:27017/\")\n",
    "db = client[\"book_review_app\"]\n",
    "\n",
    "users_collection = db[\"users\"]\n",
    "reviews_collection = db[\"reviews\"]\n"
   ]
  },
  {
   "cell_type": "markdown",
   "metadata": {},
   "source": [
    "## 🎲 Generate and Insert Fake Data"
   ]
  },
  {
   "cell_type": "code",
   "execution_count": 20,
   "metadata": {},
   "outputs": [],
   "source": [
    "\n",
    "fake = Faker()\n",
    "\n",
    "users = []\n",
    "for i in range(50):\n",
    "    user = {\n",
    "        \"_id\": ObjectId(),\n",
    "        \"name\": fake.name(),\n",
    "        \"email\": fake.email(),\n",
    "        \"age\": random.randint(18, 70),\n",
    "        \"isPremiumMember\": random.choice([True, True, False])\n",
    "    }\n",
    "    users.append(user)\n",
    "\n"
   ]
  },
  {
   "cell_type": "code",
   "execution_count": 21,
   "metadata": {},
   "outputs": [
    {
     "name": "stdout",
     "output_type": "stream",
     "text": [
      "Inserted 50 documents into users\n"
     ]
    }
   ],
   "source": [
    "def populate_collection(collection, data, is_many = False):\n",
    "    if is_many:\n",
    "        collection.insert_many(data)\n",
    "    else:\n",
    "        collection.insert_one(data)\n",
    "    print(f\"Inserted {len(data)} documents into {collection.name}\")\n",
    "\n",
    "populate_collection(users_collection, users, True)\n"
   ]
  },
  {
   "cell_type": "code",
   "execution_count": 22,
   "metadata": {},
   "outputs": [
    {
     "name": "stdout",
     "output_type": "stream",
     "text": [
      "User IDs: [ObjectId('682f653154aa6fe490ec7d9e'), ObjectId('682f653154aa6fe490ec7d9f'), ObjectId('682f653154aa6fe490ec7da0'), ObjectId('682f653154aa6fe490ec7da1'), ObjectId('682f653154aa6fe490ec7da2'), ObjectId('682f653154aa6fe490ec7da3'), ObjectId('682f653154aa6fe490ec7da4'), ObjectId('682f653154aa6fe490ec7da5'), ObjectId('682f653154aa6fe490ec7da6'), ObjectId('682f653154aa6fe490ec7da7'), ObjectId('682f653154aa6fe490ec7da8'), ObjectId('682f653154aa6fe490ec7da9'), ObjectId('682f653154aa6fe490ec7daa'), ObjectId('682f653154aa6fe490ec7dab'), ObjectId('682f653154aa6fe490ec7dac'), ObjectId('682f653154aa6fe490ec7dad'), ObjectId('682f653154aa6fe490ec7dae'), ObjectId('682f653154aa6fe490ec7daf'), ObjectId('682f653154aa6fe490ec7db0'), ObjectId('682f653154aa6fe490ec7db1'), ObjectId('682f653154aa6fe490ec7db2'), ObjectId('682f653154aa6fe490ec7db3'), ObjectId('682f653154aa6fe490ec7db4'), ObjectId('682f653154aa6fe490ec7db5'), ObjectId('682f653154aa6fe490ec7db6'), ObjectId('682f653154aa6fe490ec7db7'), ObjectId('682f653154aa6fe490ec7db8'), ObjectId('682f653154aa6fe490ec7db9'), ObjectId('682f653154aa6fe490ec7dba'), ObjectId('682f653154aa6fe490ec7dbb'), ObjectId('682f653154aa6fe490ec7dbc'), ObjectId('682f653154aa6fe490ec7dbd'), ObjectId('682f653154aa6fe490ec7dbe'), ObjectId('682f653154aa6fe490ec7dbf'), ObjectId('682f653154aa6fe490ec7dc0'), ObjectId('682f653154aa6fe490ec7dc1'), ObjectId('682f653154aa6fe490ec7dc2'), ObjectId('682f653154aa6fe490ec7dc3'), ObjectId('682f653154aa6fe490ec7dc4'), ObjectId('682f653154aa6fe490ec7dc5'), ObjectId('682f653154aa6fe490ec7dc6'), ObjectId('682f653154aa6fe490ec7dc7'), ObjectId('682f653154aa6fe490ec7dc8'), ObjectId('682f653154aa6fe490ec7dc9'), ObjectId('682f653154aa6fe490ec7dca'), ObjectId('682f653154aa6fe490ec7dcb'), ObjectId('682f653154aa6fe490ec7dcc'), ObjectId('682f653154aa6fe490ec7dcd'), ObjectId('682f653154aa6fe490ec7dce'), ObjectId('682f653154aa6fe490ec7dcf')]\n"
     ]
    }
   ],
   "source": [
    "user_ids = [doc[\"_id\"] for doc in users_collection.find({}, {\"_id\": 1})]\n",
    "print(\"User IDs:\", user_ids)"
   ]
  },
  {
   "cell_type": "code",
   "execution_count": 23,
   "metadata": {},
   "outputs": [
    {
     "name": "stdout",
     "output_type": "stream",
     "text": [
      "Inserted 200 documents into reviews\n"
     ]
    }
   ],
   "source": [
    "reviews = []\n",
    "\n",
    "for i in range(200):\n",
    "    review = {\n",
    "        \"userId\": random.choice(user_ids),\n",
    "        \"bookTitle\": fake.sentence(nb_words=3),\n",
    "        \"reviewText\": fake.paragraph(nb_sentences=5),\n",
    "        \"rating\": random.randint(1, 5),\n",
    "        \"createdAt\": fake.date_time_between_dates(datetime_start=dt(1950, 1, 1), datetime_end=dt(2025, 1, 1)).strftime(\"%Y-%m-%d\")\n",
    "    }\n",
    "\n",
    "    reviews.append(review)\n",
    "\n",
    "populate_collection(reviews_collection, reviews, True)\n",
    "\n",
    "\n"
   ]
  },
  {
   "cell_type": "markdown",
   "metadata": {},
   "source": [
    "# CRUD Operations"
   ]
  },
  {
   "cell_type": "markdown",
   "metadata": {},
   "source": [
    "## 🔍 Read (Query) Operations"
   ]
  },
  {
   "cell_type": "code",
   "execution_count": 24,
   "metadata": {},
   "outputs": [
    {
     "data": {
      "text/plain": [
       "[{'name': 'Carla Barry'},\n",
       " {'name': 'Victoria Thornton'},\n",
       " {'name': 'Cathy Romero'},\n",
       " {'name': 'Kenneth Anderson'},\n",
       " {'name': 'Taylor Haley'},\n",
       " {'name': 'Patricia Crawford'},\n",
       " {'name': 'Dustin Mcgee'},\n",
       " {'name': 'Mr. Joseph Gentry MD'},\n",
       " {'name': 'Justin Pham'},\n",
       " {'name': 'Kelly Burns PhD'},\n",
       " {'name': 'Adrian Garrison'},\n",
       " {'name': 'Ronnie Perry'},\n",
       " {'name': 'Kimberly Burgess'},\n",
       " {'name': 'Pamela Clark'},\n",
       " {'name': 'William Thompson'},\n",
       " {'name': 'Erica Johnson'},\n",
       " {'name': 'Chloe Morris'},\n",
       " {'name': 'Taylor Ford'},\n",
       " {'name': 'Victoria Mckinney'},\n",
       " {'name': 'David White'},\n",
       " {'name': 'Melody Avery'},\n",
       " {'name': 'Matthew Blair'},\n",
       " {'name': 'Joshua Franklin'},\n",
       " {'name': 'Ashley Taylor'},\n",
       " {'name': 'Lisa Powell'},\n",
       " {'name': 'Timothy Huffman III'},\n",
       " {'name': 'Gwendolyn Holder'},\n",
       " {'name': 'Andrew Davidson'},\n",
       " {'name': 'Ronald Johnson'},\n",
       " {'name': 'Robert Lee'},\n",
       " {'name': 'Kathryn Taylor'},\n",
       " {'name': 'Erica Butler'},\n",
       " {'name': 'Andrea Reyes'},\n",
       " {'name': 'Mary Anderson'},\n",
       " {'name': 'Jeffrey Marsh'},\n",
       " {'name': 'Jennifer Hammond'},\n",
       " {'name': 'Christy Johnson'},\n",
       " {'name': 'Audrey Davis'},\n",
       " {'name': 'Robert Fox'}]"
      ]
     },
     "execution_count": 24,
     "metadata": {},
     "output_type": "execute_result"
    }
   ],
   "source": [
    "# Find all users older than 30.\n",
    "users_older_than_30 = users_collection.find({\"age\": {\"$gte\": 30}}, {\"name\": 1, \"_id\": 0})\n",
    "\n",
    "list(users_older_than_30)\n"
   ]
  },
  {
   "cell_type": "code",
   "execution_count": 25,
   "metadata": {},
   "outputs": [
    {
     "data": {
      "text/plain": [
       "[{'_id': ObjectId('682f653154aa6fe490ec7dac'),\n",
       "  'name': 'Alexandria Reynolds',\n",
       "  'email': 'jessicapope@example.org',\n",
       "  'age': 22,\n",
       "  'isPremiumMember': True},\n",
       " {'_id': ObjectId('682f653154aa6fe490ec7dba'),\n",
       "  'name': 'Monica Le',\n",
       "  'email': 'nhill@example.com',\n",
       "  'age': 24,\n",
       "  'isPremiumMember': True},\n",
       " {'_id': ObjectId('682f653154aa6fe490ec7dc4'),\n",
       "  'name': 'Craig Quinn',\n",
       "  'email': 'pwillis@example.com',\n",
       "  'age': 22,\n",
       "  'isPremiumMember': True}]"
      ]
     },
     "execution_count": 25,
     "metadata": {},
     "output_type": "execute_result"
    }
   ],
   "source": [
    "# Find premium members who are below 25 years old.\n",
    "list(users_collection.find({\"isPremiumMember\": True, \"age\":{\"$lt\":25}}))"
   ]
  },
  {
   "cell_type": "code",
   "execution_count": 26,
   "metadata": {},
   "outputs": [
    {
     "data": {
      "text/plain": [
       "[{'_id': ObjectId('682f653654aa6fe490ec7dd0'), 'rating': 5},\n",
       " {'_id': ObjectId('682f653654aa6fe490ec7dd1'), 'rating': 5},\n",
       " {'_id': ObjectId('682f653654aa6fe490ec7dd3'), 'rating': 4},\n",
       " {'_id': ObjectId('682f653654aa6fe490ec7dd4'), 'rating': 5},\n",
       " {'_id': ObjectId('682f653654aa6fe490ec7dd8'), 'rating': 5},\n",
       " {'_id': ObjectId('682f653654aa6fe490ec7dd9'), 'rating': 5},\n",
       " {'_id': ObjectId('682f653654aa6fe490ec7dda'), 'rating': 4},\n",
       " {'_id': ObjectId('682f653654aa6fe490ec7ddb'), 'rating': 4},\n",
       " {'_id': ObjectId('682f653654aa6fe490ec7ddc'), 'rating': 4},\n",
       " {'_id': ObjectId('682f653654aa6fe490ec7ddd'), 'rating': 4},\n",
       " {'_id': ObjectId('682f653654aa6fe490ec7de5'), 'rating': 4},\n",
       " {'_id': ObjectId('682f653654aa6fe490ec7de9'), 'rating': 5},\n",
       " {'_id': ObjectId('682f653654aa6fe490ec7deb'), 'rating': 4},\n",
       " {'_id': ObjectId('682f653654aa6fe490ec7ded'), 'rating': 4},\n",
       " {'_id': ObjectId('682f653654aa6fe490ec7df2'), 'rating': 5},\n",
       " {'_id': ObjectId('682f653654aa6fe490ec7df5'), 'rating': 4},\n",
       " {'_id': ObjectId('682f653654aa6fe490ec7df7'), 'rating': 4},\n",
       " {'_id': ObjectId('682f653654aa6fe490ec7dfa'), 'rating': 4},\n",
       " {'_id': ObjectId('682f653654aa6fe490ec7dfc'), 'rating': 5},\n",
       " {'_id': ObjectId('682f653654aa6fe490ec7dfd'), 'rating': 5},\n",
       " {'_id': ObjectId('682f653654aa6fe490ec7e00'), 'rating': 5},\n",
       " {'_id': ObjectId('682f653654aa6fe490ec7e01'), 'rating': 5},\n",
       " {'_id': ObjectId('682f653654aa6fe490ec7e02'), 'rating': 4},\n",
       " {'_id': ObjectId('682f653654aa6fe490ec7e08'), 'rating': 4},\n",
       " {'_id': ObjectId('682f653654aa6fe490ec7e0a'), 'rating': 4},\n",
       " {'_id': ObjectId('682f653654aa6fe490ec7e0b'), 'rating': 5},\n",
       " {'_id': ObjectId('682f653654aa6fe490ec7e0c'), 'rating': 4},\n",
       " {'_id': ObjectId('682f653654aa6fe490ec7e11'), 'rating': 4},\n",
       " {'_id': ObjectId('682f653654aa6fe490ec7e16'), 'rating': 5},\n",
       " {'_id': ObjectId('682f653654aa6fe490ec7e18'), 'rating': 5},\n",
       " {'_id': ObjectId('682f653654aa6fe490ec7e1a'), 'rating': 4},\n",
       " {'_id': ObjectId('682f653654aa6fe490ec7e20'), 'rating': 5},\n",
       " {'_id': ObjectId('682f653654aa6fe490ec7e23'), 'rating': 4},\n",
       " {'_id': ObjectId('682f653654aa6fe490ec7e24'), 'rating': 5},\n",
       " {'_id': ObjectId('682f653654aa6fe490ec7e27'), 'rating': 4},\n",
       " {'_id': ObjectId('682f653654aa6fe490ec7e2b'), 'rating': 5},\n",
       " {'_id': ObjectId('682f653654aa6fe490ec7e2e'), 'rating': 4},\n",
       " {'_id': ObjectId('682f653654aa6fe490ec7e2f'), 'rating': 5},\n",
       " {'_id': ObjectId('682f653654aa6fe490ec7e31'), 'rating': 5},\n",
       " {'_id': ObjectId('682f653654aa6fe490ec7e35'), 'rating': 5},\n",
       " {'_id': ObjectId('682f653654aa6fe490ec7e36'), 'rating': 4},\n",
       " {'_id': ObjectId('682f653654aa6fe490ec7e37'), 'rating': 4},\n",
       " {'_id': ObjectId('682f653654aa6fe490ec7e3b'), 'rating': 4},\n",
       " {'_id': ObjectId('682f653654aa6fe490ec7e3e'), 'rating': 4},\n",
       " {'_id': ObjectId('682f653654aa6fe490ec7e3f'), 'rating': 4},\n",
       " {'_id': ObjectId('682f653654aa6fe490ec7e40'), 'rating': 5},\n",
       " {'_id': ObjectId('682f653654aa6fe490ec7e42'), 'rating': 4},\n",
       " {'_id': ObjectId('682f653654aa6fe490ec7e44'), 'rating': 4},\n",
       " {'_id': ObjectId('682f653654aa6fe490ec7e45'), 'rating': 4},\n",
       " {'_id': ObjectId('682f653654aa6fe490ec7e46'), 'rating': 4},\n",
       " {'_id': ObjectId('682f653654aa6fe490ec7e4c'), 'rating': 4},\n",
       " {'_id': ObjectId('682f653654aa6fe490ec7e4d'), 'rating': 5},\n",
       " {'_id': ObjectId('682f653654aa6fe490ec7e50'), 'rating': 5},\n",
       " {'_id': ObjectId('682f653654aa6fe490ec7e51'), 'rating': 5},\n",
       " {'_id': ObjectId('682f653654aa6fe490ec7e52'), 'rating': 5},\n",
       " {'_id': ObjectId('682f653654aa6fe490ec7e53'), 'rating': 4},\n",
       " {'_id': ObjectId('682f653654aa6fe490ec7e54'), 'rating': 4},\n",
       " {'_id': ObjectId('682f653654aa6fe490ec7e55'), 'rating': 5},\n",
       " {'_id': ObjectId('682f653654aa6fe490ec7e56'), 'rating': 4},\n",
       " {'_id': ObjectId('682f653654aa6fe490ec7e57'), 'rating': 4},\n",
       " {'_id': ObjectId('682f653654aa6fe490ec7e58'), 'rating': 5},\n",
       " {'_id': ObjectId('682f653654aa6fe490ec7e59'), 'rating': 4},\n",
       " {'_id': ObjectId('682f653654aa6fe490ec7e5c'), 'rating': 4},\n",
       " {'_id': ObjectId('682f653654aa6fe490ec7e5d'), 'rating': 4},\n",
       " {'_id': ObjectId('682f653654aa6fe490ec7e60'), 'rating': 5},\n",
       " {'_id': ObjectId('682f653654aa6fe490ec7e62'), 'rating': 5},\n",
       " {'_id': ObjectId('682f653654aa6fe490ec7e63'), 'rating': 4},\n",
       " {'_id': ObjectId('682f653654aa6fe490ec7e64'), 'rating': 4},\n",
       " {'_id': ObjectId('682f653654aa6fe490ec7e67'), 'rating': 5},\n",
       " {'_id': ObjectId('682f653654aa6fe490ec7e68'), 'rating': 4},\n",
       " {'_id': ObjectId('682f653654aa6fe490ec7e6c'), 'rating': 5},\n",
       " {'_id': ObjectId('682f653654aa6fe490ec7e6d'), 'rating': 5},\n",
       " {'_id': ObjectId('682f653654aa6fe490ec7e6e'), 'rating': 5},\n",
       " {'_id': ObjectId('682f653654aa6fe490ec7e72'), 'rating': 5},\n",
       " {'_id': ObjectId('682f653654aa6fe490ec7e73'), 'rating': 4},\n",
       " {'_id': ObjectId('682f653654aa6fe490ec7e74'), 'rating': 4},\n",
       " {'_id': ObjectId('682f653654aa6fe490ec7e76'), 'rating': 5},\n",
       " {'_id': ObjectId('682f653654aa6fe490ec7e77'), 'rating': 5},\n",
       " {'_id': ObjectId('682f653654aa6fe490ec7e78'), 'rating': 5},\n",
       " {'_id': ObjectId('682f653654aa6fe490ec7e7b'), 'rating': 4},\n",
       " {'_id': ObjectId('682f653654aa6fe490ec7e7c'), 'rating': 5},\n",
       " {'_id': ObjectId('682f653654aa6fe490ec7e7e'), 'rating': 4},\n",
       " {'_id': ObjectId('682f653654aa6fe490ec7e86'), 'rating': 5},\n",
       " {'_id': ObjectId('682f653654aa6fe490ec7e8b'), 'rating': 5},\n",
       " {'_id': ObjectId('682f653654aa6fe490ec7e8f'), 'rating': 5},\n",
       " {'_id': ObjectId('682f653654aa6fe490ec7e90'), 'rating': 4},\n",
       " {'_id': ObjectId('682f653654aa6fe490ec7e91'), 'rating': 4},\n",
       " {'_id': ObjectId('682f653654aa6fe490ec7e95'), 'rating': 4},\n",
       " {'_id': ObjectId('682f653654aa6fe490ec7e96'), 'rating': 4},\n",
       " {'_id': ObjectId('682f653654aa6fe490ec7e97'), 'rating': 5}]"
      ]
     },
     "execution_count": 26,
     "metadata": {},
     "output_type": "execute_result"
    }
   ],
   "source": [
    "# Get all reviews with a rating greater than 3.\n",
    "\n",
    "list(reviews_collection.find({\n",
    "    \"rating\": {\"$gt\":3}\n",
    "}, {\n",
    "    \n",
    "    \"rating\":1\n",
    "}))"
   ]
  },
  {
   "cell_type": "code",
   "execution_count": 27,
   "metadata": {},
   "outputs": [
    {
     "data": {
      "text/plain": [
       "[{'_id': ObjectId('682f653654aa6fe490ec7ddd'),\n",
       "  'userId': ObjectId('682f653154aa6fe490ec7db7'),\n",
       "  'bookTitle': 'Their until thought institution.',\n",
       "  'reviewText': 'Member size heavy soldier he story national. These near stay trouble. Beyond all home offer a order major. Above hit school economic south style.',\n",
       "  'rating': 4,\n",
       "  'createdAt': '2008-01-16'},\n",
       " {'_id': ObjectId('682f653654aa6fe490ec7de8'),\n",
       "  'userId': ObjectId('682f653154aa6fe490ec7da7'),\n",
       "  'bookTitle': 'Their mouth partner.',\n",
       "  'reviewText': 'Admit strategy growth believe force. Offer manager to film think. Join baby south identify bring community reveal six. Whole value sense.',\n",
       "  'rating': 1,\n",
       "  'createdAt': '1963-08-21'},\n",
       " {'_id': ObjectId('682f653654aa6fe490ec7e22'),\n",
       "  'userId': ObjectId('682f653154aa6fe490ec7dc5'),\n",
       "  'bookTitle': 'Themselves strategy common.',\n",
       "  'reviewText': 'Respond vote white strong close new source particular. By race you instead lead science approach. Future own yourself class family occur story person. Ok and into attorney hard national. International analysis significant everyone place.',\n",
       "  'rating': 1,\n",
       "  'createdAt': '1994-12-08'},\n",
       " {'_id': ObjectId('682f653654aa6fe490ec7e77'),\n",
       "  'userId': ObjectId('682f653154aa6fe490ec7daa'),\n",
       "  'bookTitle': 'These instead.',\n",
       "  'reviewText': 'Right suddenly military include seem measure rather. With alone seek. Article stock follow letter add bag important.',\n",
       "  'rating': 5,\n",
       "  'createdAt': '1998-02-20'}]"
      ]
     },
     "execution_count": 27,
     "metadata": {},
     "output_type": "execute_result"
    }
   ],
   "source": [
    "# Find reviews where the book title starts with 'The'.\n",
    "\n",
    "\n",
    "list(reviews_collection.find({\"bookTitle\": {\"$regex\": \"^The\"}}))"
   ]
  },
  {
   "cell_type": "code",
   "execution_count": 28,
   "metadata": {},
   "outputs": [
    {
     "data": {
      "text/plain": [
       "[{'_id': ObjectId('682f653654aa6fe490ec7dd4'),\n",
       "  'userId': ObjectId('682f653154aa6fe490ec7db5'),\n",
       "  'bookTitle': 'Would mention.',\n",
       "  'reviewText': 'Listen several me material. By story among day cover box four. Then pattern matter back exist. Doctor maybe myself walk finally individual. Whole deep wonder any up government. Culture on program.',\n",
       "  'rating': 5,\n",
       "  'createdAt': '2023-10-28'},\n",
       " {'_id': ObjectId('682f653654aa6fe490ec7e30'),\n",
       "  'userId': ObjectId('682f653154aa6fe490ec7dc0'),\n",
       "  'bookTitle': 'Different include fine.',\n",
       "  'reviewText': 'Indicate carry purpose the. On television finish guy. Pretty process administration add few. Before white system picture claim. Offer drug sit throughout bed.',\n",
       "  'rating': 1,\n",
       "  'createdAt': '2023-11-14'}]"
      ]
     },
     "execution_count": 28,
     "metadata": {},
     "output_type": "execute_result"
    }
   ],
   "source": [
    "# Retrieve reviews made after the january 1st 2023\n",
    "\n",
    "list(reviews_collection.find({\"createdAt\":{\"$gt\":'2023-01-01'}}))"
   ]
  },
  {
   "cell_type": "markdown",
   "metadata": {},
   "source": [
    "# ✏️ Update Operations"
   ]
  },
  {
   "cell_type": "code",
   "execution_count": 29,
   "metadata": {},
   "outputs": [
    {
     "data": {
      "text/plain": [
       "UpdateResult({'n': 3, 'nModified': 3, 'ok': 1.0, 'updatedExisting': True}, acknowledged=True)"
      ]
     },
     "execution_count": 29,
     "metadata": {},
     "output_type": "execute_result"
    }
   ],
   "source": [
    "# Mark all users older than 65 as isPremiumMember: false.\n",
    "\n",
    "users_collection.update_many(\n",
    "    {\"age\": {\"$gt\": 65}},\n",
    "    {\"$set\": {\"isPremiumMember\": False} }\n",
    ")"
   ]
  },
  {
   "cell_type": "code",
   "execution_count": 30,
   "metadata": {},
   "outputs": [
    {
     "data": {
      "text/plain": [
       "UpdateResult({'n': 198, 'nModified': 157, 'ok': 1.0, 'updatedExisting': True}, acknowledged=True)"
      ]
     },
     "execution_count": 30,
     "metadata": {},
     "output_type": "execute_result"
    }
   ],
   "source": [
    "# Increase the rating of reviews made before 2023 by 1 point (max 5).\n",
    "\n",
    "reviews_collection.update_many(\n",
    "    {\"createdAt\": {\"$lt\": '2023-01-01'}},\n",
    "    [\n",
    "    {\"$set\":{\"rating\": {\n",
    "        \"$min\": [ {\"$add\": [\"$rating\", 1]}, 5]\n",
    "    }}}]\n",
    "    )"
   ]
  },
  {
   "cell_type": "markdown",
   "metadata": {},
   "source": [
    "# ❌ Delete Operations"
   ]
  },
  {
   "cell_type": "code",
   "execution_count": 31,
   "metadata": {},
   "outputs": [
    {
     "data": {
      "text/plain": [
       "DeleteResult({'n': 0, 'ok': 1.0}, acknowledged=True)"
      ]
     },
     "execution_count": 31,
     "metadata": {},
     "output_type": "execute_result"
    }
   ],
   "source": [
    "# Delete all users younger than 20 and are premium members.\n",
    "\n",
    "users_collection.delete_many({\n",
    "    \"age\": {\"$lt\": 20}, \n",
    "    \"isPremiumMember\": True\n",
    "})"
   ]
  },
  {
   "cell_type": "code",
   "execution_count": 32,
   "metadata": {},
   "outputs": [
    {
     "data": {
      "text/plain": [
       "DeleteResult({'n': 39, 'ok': 1.0}, acknowledged=True)"
      ]
     },
     "execution_count": 32,
     "metadata": {},
     "output_type": "execute_result"
    }
   ],
   "source": [
    "# Delete all reviews with rating less than or equal to 2.\n",
    "\n",
    "reviews_collection.delete_many(\n",
    "    {\n",
    "        \"rating\": {\"$lte\": 2}\n",
    "    }\n",
    ")"
   ]
  },
  {
   "cell_type": "markdown",
   "metadata": {},
   "source": [
    "## 🧠 Advanced Queries"
   ]
  },
  {
   "cell_type": "code",
   "execution_count": 33,
   "metadata": {},
   "outputs": [],
   "source": [
    "# Group reviews by bookTitle and count how many reviews each book has.\n",
    "# Find the average rating per book.\n",
    "# Get the top 5 books with the highest average rating.\n",
    "\n",
    "pipeline = [\n",
    "    {\"$group\": {\n",
    "        \"_id\": \"$bookTitle\",\n",
    "        \"no_of_reviews\": {\"$sum\":1},\n",
    "        \"avg_rating\":{\"$avg\":\"$rating\"}\n",
    "    }},\n",
    "\n",
    "    {\n",
    "        \"$sort\": {\"no_of_reviews\": -1, \"avg_rating\": -1}\n",
    "    },\n",
    "\n",
    "    {\"$limit\": 5}\n",
    "]\n",
    "\n",
    "resp = reviews_collection.aggregate(pipeline)"
   ]
  },
  {
   "cell_type": "code",
   "execution_count": 34,
   "metadata": {},
   "outputs": [
    {
     "name": "stdout",
     "output_type": "stream",
     "text": [
      "{'_id': 'Hit.', 'no_of_reviews': 2, 'avg_rating': 4.5}\n",
      "{'_id': 'Natural fear.', 'no_of_reviews': 1, 'avg_rating': 5.0}\n",
      "{'_id': 'Crime.', 'no_of_reviews': 1, 'avg_rating': 5.0}\n",
      "{'_id': 'Focus at station field.', 'no_of_reviews': 1, 'avg_rating': 5.0}\n",
      "{'_id': 'Something under.', 'no_of_reviews': 1, 'avg_rating': 5.0}\n"
     ]
    }
   ],
   "source": [
    "for doc in resp:\n",
    "    print(doc)"
   ]
  },
  {
   "cell_type": "markdown",
   "metadata": {},
   "source": [
    "## 📌 Summary & Next Steps"
   ]
  },
  {
   "cell_type": "markdown",
   "metadata": {},
   "source": [
    "This project practiced CRUD operations in MongoDB using realistic data.\n",
    "In the future, I will explore:\n",
    "- Aggregation pipelines\n",
    "- Indexes and performance\n",
    "- MongoDB with Flask or FastAPI\n",
    "\n"
   ]
  }
 ],
 "metadata": {
  "kernelspec": {
   "display_name": "base",
   "language": "python",
   "name": "python3"
  },
  "language_info": {
   "codemirror_mode": {
    "name": "ipython",
    "version": 3
   },
   "file_extension": ".py",
   "mimetype": "text/x-python",
   "name": "python",
   "nbconvert_exporter": "python",
   "pygments_lexer": "ipython3",
   "version": "3.10.9"
  }
 },
 "nbformat": 4,
 "nbformat_minor": 2
}
